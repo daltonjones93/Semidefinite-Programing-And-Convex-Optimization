{
 "cells": [
  {
   "cell_type": "code",
   "execution_count": 1,
   "metadata": {},
   "outputs": [
    {
     "data": {
      "text/latex": [
       "$$ \\begin{alignat*}{1}\\text{feasibility}\\\\\n",
       "\\text{Subject to} \\quad\\end{alignat*}\n",
       " $$"
      ],
      "text/plain": [
       "A JuMP Model\n",
       "Feasibility problem with:\n",
       "Variables: 0\n",
       "Model mode: AUTOMATIC\n",
       "CachingOptimizer state: EMPTY_OPTIMIZER\n",
       "Solver name: Mosek"
      ]
     },
     "execution_count": 1,
     "metadata": {},
     "output_type": "execute_result"
    }
   ],
   "source": [
    "using SumOfSquares\n",
    "using DynamicPolynomials\n",
    "using MosekTools\n",
    "\n",
    "\n",
    "# Using Mosek as the SDP solver\n",
    "model = SOSModel(Mosek.Optimizer)"
   ]
  },
  {
   "cell_type": "code",
   "execution_count": 2,
   "metadata": {},
   "outputs": [
    {
     "name": "stdout",
     "output_type": "stream",
     "text": [
      "Problem\n",
      "  Name                   :                 \n",
      "  Objective sense        : min             \n",
      "  Type                   : CONIC (conic optimization problem)\n",
      "  Constraints            : 10              \n",
      "  Cones                  : 0               \n",
      "  Scalar variables       : 0               \n",
      "  Matrix variables       : 1               \n",
      "  Integer variables      : 0               \n",
      "\n",
      "Optimizer started.\n",
      "Presolve started.\n",
      "Linear dependency checker started.\n",
      "Linear dependency checker terminated.\n",
      "Eliminator started.\n",
      "Freed constraints in eliminator : 0\n",
      "Eliminator terminated.\n",
      "Eliminator - tries                  : 1                 time                   : 0.00            \n",
      "Lin. dep.  - tries                  : 1                 time                   : 0.00            \n",
      "Lin. dep.  - number                 : 0               \n",
      "Presolve terminated. Time: 0.00    \n",
      "Problem\n",
      "  Name                   :                 \n",
      "  Objective sense        : min             \n",
      "  Type                   : CONIC (conic optimization problem)\n",
      "  Constraints            : 10              \n",
      "  Cones                  : 0               \n",
      "  Scalar variables       : 0               \n",
      "  Matrix variables       : 1               \n",
      "  Integer variables      : 0               \n",
      "\n",
      "Optimizer  - threads                : 12              \n",
      "Optimizer  - solved problem         : the primal      \n",
      "Optimizer  - Constraints            : 10\n",
      "Optimizer  - Cones                  : 0\n",
      "Optimizer  - Scalar variables       : 0                 conic                  : 0               \n",
      "Optimizer  - Semi-definite variables: 1                 scalarized             : 10              \n",
      "Factor     - setup time             : 0.00              dense det. time        : 0.00            \n",
      "Factor     - ML order time          : 0.00              GP order time          : 0.00            \n",
      "Factor     - nonzeros before factor : 55                after factor           : 55              \n",
      "Factor     - dense dim.             : 0                 flops                  : 7.92e+02        \n",
      "ITE PFEAS    DFEAS    GFEAS    PRSTATUS   POBJ              DOBJ              MU       TIME  \n",
      "0   4.0e+00  1.0e+00  1.0e+00  0.00e+00   0.000000000e+00   0.000000000e+00   1.0e+00  0.00  \n",
      "1   6.1e-02  1.5e-02  2.2e-01  -8.46e-01  0.000000000e+00   2.110428418e+02   1.5e-02  0.00  \n",
      "2   2.5e-07  6.2e-08  2.7e-04  -9.94e-01  0.000000000e+00   1.871739496e+07   6.2e-08  0.00  \n",
      "3   8.3e-16  1.3e-15  3.8e-12  -1.00e+00  0.000000000e+00   9.375000000e-01   6.2e-16  0.00  \n",
      "Optimizer terminated. Time: 0.03    \n",
      "\n",
      "termination_status(model) = MathOptInterface.INFEASIBLE\n"
     ]
    },
    {
     "data": {
      "text/plain": [
       "INFEASIBLE::TerminationStatusCode = 2"
      ]
     },
     "execution_count": 2,
     "metadata": {},
     "output_type": "execute_result"
    }
   ],
   "source": [
    "@polyvar x y z\n",
    "p = x^4*y^2 + x^2*y^4 +z^6 - 3*x^2*y^2*z^2\n",
    "@constraint(model, p >= 0)\n",
    "optimize!(model)\n",
    "# Solution status is `Infeasible`\n",
    "@show termination_status(model)"
   ]
  },
  {
   "cell_type": "code",
   "execution_count": 12,
   "metadata": {},
   "outputs": [
    {
     "name": "stdout",
     "output_type": "stream",
     "text": [
      "Problem\n",
      "  Name                   :                 \n",
      "  Objective sense        : min             \n",
      "  Type                   : CONIC (conic optimization problem)\n",
      "  Constraints            : 6               \n",
      "  Cones                  : 0               \n",
      "  Scalar variables       : 0               \n",
      "  Matrix variables       : 1               \n",
      "  Integer variables      : 0               \n",
      "\n",
      "Optimizer started.\n",
      "Presolve started.\n",
      "Linear dependency checker started.\n",
      "Linear dependency checker terminated.\n",
      "Eliminator started.\n",
      "Freed constraints in eliminator : 0\n",
      "Eliminator terminated.\n",
      "Eliminator - tries                  : 1                 time                   : 0.00            \n",
      "Lin. dep.  - tries                  : 1                 time                   : 0.00            \n",
      "Lin. dep.  - number                 : 0               \n",
      "Presolve terminated. Time: 0.00    \n",
      "Problem\n",
      "  Name                   :                 \n",
      "  Objective sense        : min             \n",
      "  Type                   : CONIC (conic optimization problem)\n",
      "  Constraints            : 6               \n",
      "  Cones                  : 0               \n",
      "  Scalar variables       : 0               \n",
      "  Matrix variables       : 1               \n",
      "  Integer variables      : 0               \n",
      "\n",
      "Optimizer  - threads                : 12              \n",
      "Optimizer  - solved problem         : the primal      \n",
      "Optimizer  - Constraints            : 6\n",
      "Optimizer  - Cones                  : 0\n",
      "Optimizer  - Scalar variables       : 0                 conic                  : 0               \n",
      "Optimizer  - Semi-definite variables: 1                 scalarized             : 6               \n",
      "Factor     - setup time             : 0.00              dense det. time        : 0.00            \n",
      "Factor     - ML order time          : 0.00              GP order time          : 0.00            \n",
      "Factor     - nonzeros before factor : 21                after factor           : 21              \n",
      "Factor     - dense dim.             : 0                 flops                  : 2.46e+02        \n",
      "ITE PFEAS    DFEAS    GFEAS    PRSTATUS   POBJ              DOBJ              MU       TIME  \n",
      "0   0.0e+00  1.0e+00  1.0e+00  0.00e+00   0.000000000e+00   0.000000000e+00   1.0e+00  0.00  \n",
      "Optimizer terminated. Time: 0.00    \n",
      "\n",
      "termination_status(model) = MathOptInterface.INFEASIBLE\n"
     ]
    },
    {
     "data": {
      "text/plain": [
       "INFEASIBLE::TerminationStatusCode = 2"
      ]
     },
     "execution_count": 12,
     "metadata": {},
     "output_type": "execute_result"
    }
   ],
   "source": [
    "model2 = SOSModel(Mosek.Optimizer)\n",
    "@polyvar x y z\n",
    "q = (x^2+y^2 +z^2)\n",
    "@constraint(model2, q >= 0)\n",
    "optimize!(model2)\n",
    "\n",
    "@show termination_status(model)"
   ]
  },
  {
   "cell_type": "code",
   "execution_count": 2,
   "metadata": {},
   "outputs": [
    {
     "ename": "LoadError",
     "evalue": "\u001b[91mMethodError: \u001b[0mCannot `convert` an object of type \u001b[92mGenericQuadExpr{Float64,VariableRef}\u001b[39m\u001b[0m to an object of type \u001b[91mGenericAffExpr{Float64,VariableRef}\u001b[39m\u001b[39m\n\u001b[91m\u001b[0mClosest candidates are:\u001b[39m\n\u001b[91m\u001b[0m  convert(::Type{GenericAffExpr{T,V}}, \u001b[91m::Union{Number, LinearAlgebra.UniformScaling}\u001b[39m) where {T, V} at /Users/daltonjones/.julia/packages/JuMP/y5vgk/src/aff_expr.jl:406\u001b[39m\n\u001b[91m\u001b[0m  convert(::Type{GenericAffExpr{T,V}}, \u001b[91m::V\u001b[39m) where {T, V} at /Users/daltonjones/.julia/packages/JuMP/y5vgk/src/aff_expr.jl:403\u001b[39m\n\u001b[91m\u001b[0m  convert(::Type{var\"#s28\"} where var\"#s28\"<:Union{Number, T}, \u001b[91m::AbstractPolynomialLike{T}\u001b[39m) where T at /Users/daltonjones/.julia/packages/MultivariatePolynomials/uzAhM/src/conversion.jl:65\u001b[39m\n\u001b[91m\u001b[0m  ...\u001b[39m",
     "output_type": "error",
     "traceback": [
      "\u001b[91mMethodError: \u001b[0mCannot `convert` an object of type \u001b[92mGenericQuadExpr{Float64,VariableRef}\u001b[39m\u001b[0m to an object of type \u001b[91mGenericAffExpr{Float64,VariableRef}\u001b[39m\u001b[39m\n\u001b[91m\u001b[0mClosest candidates are:\u001b[39m\n\u001b[91m\u001b[0m  convert(::Type{GenericAffExpr{T,V}}, \u001b[91m::Union{Number, LinearAlgebra.UniformScaling}\u001b[39m) where {T, V} at /Users/daltonjones/.julia/packages/JuMP/y5vgk/src/aff_expr.jl:406\u001b[39m\n\u001b[91m\u001b[0m  convert(::Type{GenericAffExpr{T,V}}, \u001b[91m::V\u001b[39m) where {T, V} at /Users/daltonjones/.julia/packages/JuMP/y5vgk/src/aff_expr.jl:403\u001b[39m\n\u001b[91m\u001b[0m  convert(::Type{var\"#s28\"} where var\"#s28\"<:Union{Number, T}, \u001b[91m::AbstractPolynomialLike{T}\u001b[39m) where T at /Users/daltonjones/.julia/packages/MultivariatePolynomials/uzAhM/src/conversion.jl:65\u001b[39m\n\u001b[91m\u001b[0m  ...\u001b[39m",
      "",
      "Stacktrace:",
      " [1] setindex!(::Array{GenericAffExpr{Float64,VariableRef},1}, ::GenericQuadExpr{Float64,VariableRef}, ::Int64) at ./array.jl:847",
      " [2] _mul(::Type{GenericAffExpr{Float64,VariableRef}}, ::Polynomial{true,GenericAffExpr{Float64,VariableRef}}, ::Polynomial{true,GenericAffExpr{Float64,VariableRef}}) at /Users/daltonjones/.julia/packages/DynamicPolynomials/46iig/src/mult.jl:105",
      " [3] *(::Polynomial{true,GenericAffExpr{Float64,VariableRef}}, ::Polynomial{true,GenericAffExpr{Float64,VariableRef}}) at /Users/daltonjones/.julia/packages/DynamicPolynomials/46iig/src/mult.jl:114",
      " [4] top-level scope at In[2]:15",
      " [5] include_string(::Function, ::Module, ::String, ::String) at ./loading.jl:1091"
     ]
    }
   ],
   "source": [
    "model = SOSModel(Mosek.Optimizer)\n",
    "@polyvar x\n",
    "@variable(model, a)\n",
    "@variable(model, b)\n",
    "@variable(model, c)\n",
    "\n",
    "@variable(model, a1)\n",
    "@variable(model, a2)\n",
    "@variable(model, a3)\n",
    "# We need to convert each equality to two inequalities\n",
    "# to avoid numerical issues...\n",
    "# S = @set x^2 >= x && y^2 >= y && x^2 <= x && y^2 <= y\n",
    "\n",
    "p = a*x^2+b*x+c\n",
    "q = p*(a1*x^2 +a2*x+a3) +1\n",
    "\n",
    "\n",
    "@constraint(model, p >= 0)\n",
    "@constraint(model, q  >= 0)\n",
    "@constraint(model, q <= 0)\n",
    "@objective(model, Min, a1)\n",
    "optimize!(model)\n",
    "println(\"Solution: $(value(a1))\")\n",
    "# Returns t = -1"
   ]
  },
  {
   "cell_type": "code",
   "execution_count": 5,
   "metadata": {},
   "outputs": [
    {
     "ename": "LoadError",
     "evalue": "\u001b[91mThe optimizer supports second-order cone constraints and not quadratic constraints but you entered a quadratic constraint of type: `MathOptInterface.ScalarQuadraticFunction{Float64}`-in-`MathOptInterface.GreaterThan{Float64}`. A bridge attempted to transform the quadratic constraint to a second order cone constraint but the constraint is not strongly convex, i.e., the symmetric matrix of quadratic coefficients is not positive definite. Convex constraints that are not strongly convex, i.e. the matrix is positive semidefinite but not positive definite, are not supported yet.\u001b[39m",
     "output_type": "error",
     "traceback": [
      "\u001b[91mThe optimizer supports second-order cone constraints and not quadratic constraints but you entered a quadratic constraint of type: `MathOptInterface.ScalarQuadraticFunction{Float64}`-in-`MathOptInterface.GreaterThan{Float64}`. A bridge attempted to transform the quadratic constraint to a second order cone constraint but the constraint is not strongly convex, i.e., the symmetric matrix of quadratic coefficients is not positive definite. Convex constraints that are not strongly convex, i.e. the matrix is positive semidefinite but not positive definite, are not supported yet.\u001b[39m",
      "",
      "Stacktrace:",
      " [1] error(::String, ::String, ::String, ::String, ::String, ::String, ::String, ::String, ::String, ::String) at ./error.jl:42",
      " [2] bridge_constraint(::Type{MathOptInterface.Bridges.Constraint.QuadtoSOCBridge{Float64}}, ::MathOptInterface.Bridges.LazyBridgeOptimizer{MosekModel}, ::MathOptInterface.ScalarQuadraticFunction{Float64}, ::MathOptInterface.GreaterThan{Float64}) at /Users/daltonjones/.julia/packages/MathOptInterface/5WwpK/src/Bridges/Constraint/quad_to_soc.jl:81",
      " [3] add_bridged_constraint(::MathOptInterface.Bridges.LazyBridgeOptimizer{MosekModel}, ::Type{T} where T, ::MathOptInterface.ScalarQuadraticFunction{Float64}, ::MathOptInterface.GreaterThan{Float64}) at /Users/daltonjones/.julia/packages/MathOptInterface/5WwpK/src/Bridges/bridge_optimizer.jl:1271",
      " [4] add_constraint(::MathOptInterface.Bridges.LazyBridgeOptimizer{MosekModel}, ::MathOptInterface.ScalarQuadraticFunction{Float64}, ::MathOptInterface.GreaterThan{Float64}) at /Users/daltonjones/.julia/packages/MathOptInterface/5WwpK/src/Bridges/bridge_optimizer.jl:1343",
      " [5] bridge_constraint(::Type{MathOptInterface.Bridges.Constraint.SplitIntervalBridge{Float64,MathOptInterface.ScalarQuadraticFunction{Float64},MathOptInterface.EqualTo{Float64},MathOptInterface.GreaterThan{Float64},MathOptInterface.LessThan{Float64}}}, ::MathOptInterface.Bridges.LazyBridgeOptimizer{MosekModel}, ::MathOptInterface.ScalarQuadraticFunction{Float64}, ::MathOptInterface.EqualTo{Float64}) at /Users/daltonjones/.julia/packages/MathOptInterface/5WwpK/src/Bridges/Constraint/interval.jl:37",
      " [6] add_bridged_constraint(::MathOptInterface.Bridges.LazyBridgeOptimizer{MosekModel}, ::Type, ::MathOptInterface.ScalarQuadraticFunction{Float64}, ::MathOptInterface.EqualTo{Float64}) at /Users/daltonjones/.julia/packages/MathOptInterface/5WwpK/src/Bridges/bridge_optimizer.jl:1271",
      " [7] add_constraint(::MathOptInterface.Bridges.LazyBridgeOptimizer{MosekModel}, ::MathOptInterface.ScalarQuadraticFunction{Float64}, ::MathOptInterface.EqualTo{Float64}) at /Users/daltonjones/.julia/packages/MathOptInterface/5WwpK/src/Bridges/bridge_optimizer.jl:1343",
      " [8] bridge_constraint(::Type{MathOptInterface.Bridges.Constraint.ScalarizeBridge{Float64,MathOptInterface.ScalarQuadraticFunction{Float64},MathOptInterface.EqualTo{Float64}}}, ::MathOptInterface.Bridges.LazyBridgeOptimizer{MosekModel}, ::MathOptInterface.VectorQuadraticFunction{Float64}, ::MathOptInterface.Zeros) at /Users/daltonjones/.julia/packages/MathOptInterface/5WwpK/src/Bridges/Constraint/scalarize.jl:22",
      " [9] add_bridged_constraint(::MathOptInterface.Bridges.LazyBridgeOptimizer{MosekModel}, ::Type{T} where T, ::MathOptInterface.VectorQuadraticFunction{Float64}, ::MathOptInterface.Zeros) at /Users/daltonjones/.julia/packages/MathOptInterface/5WwpK/src/Bridges/bridge_optimizer.jl:1271",
      " [10] add_constraint(::MathOptInterface.Bridges.LazyBridgeOptimizer{MosekModel}, ::MathOptInterface.VectorQuadraticFunction{Float64}, ::MathOptInterface.Zeros) at /Users/daltonjones/.julia/packages/MathOptInterface/5WwpK/src/Bridges/bridge_optimizer.jl:1343",
      " [11] bridge_constraint(::Type{PolyJuMP.ZeroPolynomialBridge{Float64,MathOptInterface.VectorQuadraticFunction{Float64},Monomial{true},MonomialVector{true}}}, ::MathOptInterface.Bridges.LazyBridgeOptimizer{MosekModel}, ::MathOptInterface.VectorQuadraticFunction{Float64}, ::PolyJuMP.ZeroPolynomialSet{FullSpace,MonomialBasis,Monomial{true},MonomialVector{true}}) at /Users/daltonjones/.julia/packages/PolyJuMP/l2sPX/src/zero_polynomial_bridge.jl:14",
      " [12] add_bridged_constraint(::MathOptInterface.Bridges.LazyBridgeOptimizer{MosekModel}, ::Type{T} where T, ::MathOptInterface.VectorQuadraticFunction{Float64}, ::PolyJuMP.ZeroPolynomialSet{FullSpace,MonomialBasis,Monomial{true},MonomialVector{true}}) at /Users/daltonjones/.julia/packages/MathOptInterface/5WwpK/src/Bridges/bridge_optimizer.jl:1271",
      " [13] add_constraint(::MathOptInterface.Bridges.LazyBridgeOptimizer{MosekModel}, ::MathOptInterface.VectorQuadraticFunction{Float64}, ::PolyJuMP.ZeroPolynomialSet{FullSpace,MonomialBasis,Monomial{true},MonomialVector{true}}) at /Users/daltonjones/.julia/packages/MathOptInterface/5WwpK/src/Bridges/bridge_optimizer.jl:1343",
      " [14] bridge_constraint(::Type{SumOfSquares.Bridges.Constraint.SOSPolynomialBridge{Float64,MathOptInterface.VectorQuadraticFunction{Float64},FullSpace,Union{MathOptInterface.ConstraintIndex{MathOptInterface.VectorOfVariables,MathOptInterface.Nonnegatives}, MathOptInterface.ConstraintIndex{MathOptInterface.VectorOfVariables,MathOptInterface.PositiveSemidefiniteConeTriangle}, MathOptInterface.ConstraintIndex{MathOptInterface.VectorOfVariables,SumOfSquares.EmptyCone}, MathOptInterface.ConstraintIndex{MathOptInterface.VectorOfVariables,SumOfSquares.PositiveSemidefinite2x2ConeTriangle}, Array{Union{MathOptInterface.ConstraintIndex{MathOptInterface.VectorOfVariables,MathOptInterface.Nonnegatives}, MathOptInterface.ConstraintIndex{MathOptInterface.VectorOfVariables,MathOptInterface.PositiveSemidefiniteConeTriangle}, MathOptInterface.ConstraintIndex{MathOptInterface.VectorOfVariables,SumOfSquares.EmptyCone}, MathOptInterface.ConstraintIndex{MathOptInterface.VectorOfVariables,SumOfSquares.PositiveSemidefinite2x2ConeTriangle}},1}},Union{SumOfSquares.EmptyCone, SumOfSquares.PositiveSemidefinite2x2ConeTriangle, MathOptInterface.Nonnegatives, MathOptInterface.PositiveSemidefiniteConeTriangle},MathOptInterface.PositiveSemidefiniteConeTriangle,MonomialBasis,MonomialBasis,SumOfSquares.Certificate.Newton{NonnegPolyInnerCone{MathOptInterface.PositiveSemidefiniteConeTriangle},MonomialBasis,Tuple{}},Monomial{true},MonomialVector{true}}}, ::MathOptInterface.Bridges.LazyBridgeOptimizer{MosekModel}, ::MathOptInterface.VectorQuadraticFunction{Float64}, ::SumOfSquares.SOSPolynomialSet{FullSpace,Monomial{true},MonomialVector{true},SumOfSquares.Certificate.Newton{NonnegPolyInnerCone{MathOptInterface.PositiveSemidefiniteConeTriangle},MonomialBasis,Tuple{}}}) at /Users/daltonjones/.julia/packages/SumOfSquares/IXLID/src/Bridges/Constraint/sos_polynomial.jl:47",
      " [15] add_bridged_constraint(::MathOptInterface.Bridges.LazyBridgeOptimizer{MosekModel}, ::Type, ::MathOptInterface.VectorQuadraticFunction{Float64}, ::SumOfSquares.SOSPolynomialSet{FullSpace,Monomial{true},MonomialVector{true},SumOfSquares.Certificate.Newton{NonnegPolyInnerCone{MathOptInterface.PositiveSemidefiniteConeTriangle},MonomialBasis,Tuple{}}}) at /Users/daltonjones/.julia/packages/MathOptInterface/5WwpK/src/Bridges/bridge_optimizer.jl:1271",
      " [16] add_constraint at /Users/daltonjones/.julia/packages/MathOptInterface/5WwpK/src/Bridges/bridge_optimizer.jl:1343 [inlined]",
      " [17] _broadcast_getindex_evalf at ./broadcast.jl:648 [inlined]",
      " [18] _broadcast_getindex at ./broadcast.jl:621 [inlined]",
      " [19] getindex at ./broadcast.jl:575 [inlined]",
      " [20] macro expansion at ./broadcast.jl:932 [inlined]",
      " [21] macro expansion at ./simdloop.jl:77 [inlined]",
      " [22] copyto! at ./broadcast.jl:931 [inlined]",
      " [23] copyto! at ./broadcast.jl:886 [inlined]",
      " [24] copy(::Base.Broadcast.Broadcasted{Base.Broadcast.DefaultArrayStyle{1},Tuple{Base.OneTo{Int64}},typeof(MathOptInterface.add_constraint),Tuple{Base.RefValue{MathOptInterface.Bridges.LazyBridgeOptimizer{MosekModel}},Array{MathOptInterface.VectorQuadraticFunction{Float64},1},Array{SumOfSquares.SOSPolynomialSet{FullSpace,Monomial{true},MonomialVector{true},SumOfSquares.Certificate.Newton{NonnegPolyInnerCone{MathOptInterface.PositiveSemidefiniteConeTriangle},MonomialBasis,Tuple{}}},1}}}) at ./broadcast.jl:862",
      " [25] materialize at ./broadcast.jl:837 [inlined]",
      " [26] add_constraints(::MathOptInterface.Bridges.LazyBridgeOptimizer{MosekModel}, ::Array{MathOptInterface.VectorQuadraticFunction{Float64},1}, ::Array{SumOfSquares.SOSPolynomialSet{FullSpace,Monomial{true},MonomialVector{true},SumOfSquares.Certificate.Newton{NonnegPolyInnerCone{MathOptInterface.PositiveSemidefiniteConeTriangle},MonomialBasis,Tuple{}}},1}) at /Users/daltonjones/.julia/packages/MathOptInterface/5WwpK/src/Bridges/bridge_optimizer.jl:1354",
      " [27] copy_constraints(::MathOptInterface.Bridges.LazyBridgeOptimizer{MosekModel}, ::MathOptInterface.Utilities.UniversalFallback{MathOptInterface.Utilities.Model{Float64}}, ::MathOptInterface.Utilities.IndexMap, ::Array{MathOptInterface.ConstraintIndex{MathOptInterface.VectorQuadraticFunction{Float64},SumOfSquares.SOSPolynomialSet{FullSpace,Monomial{true},MonomialVector{true},SumOfSquares.Certificate.Newton{NonnegPolyInnerCone{MathOptInterface.PositiveSemidefiniteConeTriangle},MonomialBasis,Tuple{}}}},1}, ::Nothing) at /Users/daltonjones/.julia/packages/MathOptInterface/5WwpK/src/Utilities/copy.jl:416",
      " [28] copy_constraints(::MathOptInterface.Bridges.LazyBridgeOptimizer{MosekModel}, ::MathOptInterface.Utilities.UniversalFallback{MathOptInterface.Utilities.Model{Float64}}, ::MathOptInterface.Utilities.IndexMap, ::Array{MathOptInterface.ConstraintIndex{MathOptInterface.VectorQuadraticFunction{Float64},SumOfSquares.SOSPolynomialSet{FullSpace,Monomial{true},MonomialVector{true},SumOfSquares.Certificate.Newton{NonnegPolyInnerCone{MathOptInterface.PositiveSemidefiniteConeTriangle},MonomialBasis,Tuple{}}}},1}) at /Users/daltonjones/.julia/packages/MathOptInterface/5WwpK/src/Utilities/copy.jl:406",
      " [29] pass_constraints(::MathOptInterface.Bridges.LazyBridgeOptimizer{MosekModel}, ::MathOptInterface.Utilities.UniversalFallback{MathOptInterface.Utilities.Model{Float64}}, ::Bool, ::MathOptInterface.Utilities.IndexMap, ::Array{Type{var\"#s311\"} where var\"#s311\"<:MathOptInterface.AbstractScalarSet,1}, ::Array{Array{var\"#s291\",1} where var\"#s291\"<:(MathOptInterface.ConstraintIndex{MathOptInterface.SingleVariable,S} where S),1}, ::Array{Type{var\"#s318\"} where var\"#s318\"<:MathOptInterface.AbstractVectorSet,1}, ::Array{Array{var\"#s313\",1} where var\"#s313\"<:(MathOptInterface.ConstraintIndex{MathOptInterface.VectorOfVariables,S} where S),1}, ::typeof(MathOptInterface.Utilities.copy_constraints), ::typeof(MathOptInterface.set); filter_constraints::Nothing) at /Users/daltonjones/.julia/packages/MathOptInterface/5WwpK/src/Utilities/copy.jl:481",
      " [30] default_copy_to(::MathOptInterface.Bridges.LazyBridgeOptimizer{MosekModel}, ::MathOptInterface.Utilities.UniversalFallback{MathOptInterface.Utilities.Model{Float64}}, ::Bool, ::Nothing) at /Users/daltonjones/.julia/packages/MathOptInterface/5WwpK/src/Utilities/copy.jl:652",
      " [31] #automatic_copy_to#135 at /Users/daltonjones/.julia/packages/MathOptInterface/5WwpK/src/Utilities/copy.jl:24 [inlined]",
      " [32] #copy_to#3 at /Users/daltonjones/.julia/packages/MathOptInterface/5WwpK/src/Bridges/bridge_optimizer.jl:324 [inlined]",
      " [33] attach_optimizer(::MathOptInterface.Utilities.CachingOptimizer{MathOptInterface.AbstractOptimizer,MathOptInterface.Utilities.UniversalFallback{MathOptInterface.Utilities.Model{Float64}}}) at /Users/daltonjones/.julia/packages/MathOptInterface/5WwpK/src/Utilities/cachingoptimizer.jl:171",
      " [34] optimize!(::MathOptInterface.Utilities.CachingOptimizer{MathOptInterface.AbstractOptimizer,MathOptInterface.Utilities.UniversalFallback{MathOptInterface.Utilities.Model{Float64}}}) at /Users/daltonjones/.julia/packages/MathOptInterface/5WwpK/src/Utilities/cachingoptimizer.jl:233",
      " [35] optimize!(::Model, ::Nothing; bridge_constraints::Bool, ignore_optimize_hook::Bool, kwargs::Base.Iterators.Pairs{Union{},Union{},Tuple{},NamedTuple{(),Tuple{}}}) at /Users/daltonjones/.julia/packages/JuMP/y5vgk/src/optimizer_interface.jl:139",
      " [36] optimize! at /Users/daltonjones/.julia/packages/JuMP/y5vgk/src/optimizer_interface.jl:115 [inlined] (repeats 2 times)",
      " [37] top-level scope at In[5]:10",
      " [38] include_string(::Function, ::Module, ::String, ::String) at ./loading.jl:1091"
     ]
    }
   ],
   "source": [
    "model = SOSModel(Mosek.Optimizer)\n",
    "@polyvar x\n",
    "@variable(model, s)\n",
    "@variable(model, t)\n",
    "@variable(model,y)\n",
    "\n",
    "p = s*x^6 + t*y - x^4*y - x^2*y - x^4 + 3*x^2*y - y - x^2 - y + 1\n",
    "\n",
    "@constraint(model, p >= 0)\n",
    "optimize!(model)\n",
    "println(\"Solution: [ $(value(s)), $(value(t)) ]\")"
   ]
  },
  {
   "cell_type": "code",
   "execution_count": null,
   "metadata": {},
   "outputs": [],
   "source": []
  }
 ],
 "metadata": {
  "kernelspec": {
   "display_name": "Julia 1.5.3",
   "language": "julia",
   "name": "julia-1.5"
  },
  "language_info": {
   "file_extension": ".jl",
   "mimetype": "application/julia",
   "name": "julia",
   "version": "1.5.3"
  }
 },
 "nbformat": 4,
 "nbformat_minor": 4
}

{
 "cells": [
  {
   "cell_type": "code",
   "execution_count": 70,
   "metadata": {},
   "outputs": [],
   "source": [
    "import numpy as np\n",
    "import scipy.linalg as la\n",
    "import sympy as sp\n",
    "import matplotlib.pyplot as plt\n",
    "from sympy import init_printing\n"
   ]
  },
  {
   "cell_type": "code",
   "execution_count": 85,
   "metadata": {},
   "outputs": [
    {
     "name": "stdout",
     "output_type": "stream",
     "text": [
      "[-1.00391827+0.00265498j -0.99965458+0.00472058j -1.00425317-0.00206605j\n",
      " -1.00033975-0.00471173j -0.995742  +0.00205672j -0.99609222-0.0026545j ]\n",
      "[[-0.32434975+0.43580219j  0.54658298-0.2428964j  -0.41178891-0.01932296j]\n",
      " [-0.06815083+0.09017999j -0.32479226+0.1437179j   0.41023103+0.01815436j]\n",
      " [ 0.2613818 -0.35164731j  0.10485904-0.0452131j  -0.40867613-0.01699446j]]\n",
      "[-0.2582788 +0.34961942j  0.11322702-0.05262092j  0.40712422+0.01584322j]\n",
      "x**3 + 2.99217397351229*x**2 + 2.98436445501696*x + 0.992190504399472\n",
      "-0.00530951218040727*x**2 - 0.0105774868663419*x - 0.00526807770035112\n"
     ]
    }
   ],
   "source": [
    "\n",
    "def SOSdecompositionCalculator(c):\n",
    "    #c is a list of polynomial coefficients len(c)= n+1 e.g. c[n]x^n +c[n-1]... and so on\n",
    "    \n",
    "    #need to form companion matrix:\n",
    "    \n",
    "    n = len(c)-1\n",
    "    C_p = np.diag(np.ones(n-1),-1)\n",
    "    for i in range(n):\n",
    "        C_p[i,n-1] = -(c[i]/c[n])\n",
    "    \n",
    "    \n",
    "    \n",
    "    #okay so that creates the companion matrix\n",
    "    #now we need to take the schur complement\n",
    "#     print(C_p)\n",
    "    \n",
    "    T,Z, sdim= la.schur(C_p, output = 'complex', sort = lambda x: x.imag)\n",
    "    \n",
    "#     print(sdim)\n",
    "#     plt.matshow(np.abs(T))\n",
    "    \n",
    "    \n",
    "    print(np.diag(T))\n",
    "    #Z T Z^T = C_p, Z unitary\n",
    "    \n",
    "    U_12 = Z[:int(n/2),int(n/2):]\n",
    "    v = Z[int(n/2),int(n/2):]\n",
    "    \n",
    "    print(U_12)\n",
    "    print(v)\n",
    "    \n",
    "    q = v.dot(np.linalg.inv(U_12))\n",
    "    \n",
    "    \n",
    "    q_i = q.imag\n",
    "    q_r = q.real\n",
    "    \n",
    "    #create matrix\n",
    "    A = np.zeros((2,int(n/2)+1))\n",
    "    \n",
    "    \n",
    "    A[0,:len(q_r)] = -q_r\n",
    "    \n",
    "    A[0,-1] = 1\n",
    "    A[1,:len(q_r)] = -q_i\n",
    "    \n",
    "    \n",
    "    \n",
    "    \n",
    "    #this works!\n",
    "    x = sp.symbols('x')\n",
    "    poly1 = x**len(q_r)\n",
    "    for i in range(len(q_r)):\n",
    "        poly1 += -q_r[i]*x**i\n",
    "    \n",
    "    poly2 = 0\n",
    "    for i in range(len(q_r)):\n",
    "        poly2 += -q_i[i]*x**i\n",
    "    \n",
    "    return poly1,poly2\n",
    "    \n",
    "\n",
    "    \n",
    "    \n",
    "c = [1,6,15,20,15,6,1] #poly (x-1)**6 >=0\n",
    "# c = np.random.rand(5)\n",
    "\n",
    "\n",
    "p1,p2 = SOSdecompositionCalculator(c)\n",
    "\n",
    "print(p1)\n",
    "print(p2)\n"
   ]
  },
  {
   "cell_type": "code",
   "execution_count": null,
   "metadata": {},
   "outputs": [],
   "source": [
    "# # A = np.random.rand(4,4)\n",
    "# # A = A+A.T\n",
    "\n",
    "# # -4 x + 6 x^2 - 4 x^3 + x^4\n",
    "# x= sp.symbols('x')\n",
    "\n",
    "# A = companion([1,-4,6,-4,2])\n",
    "# T,Z = schur(A)\n",
    "# invval = np.linalg.inv(Z[:2,2:])\n",
    "# q = Z[2,2:].dot(invval) #first row of U22\n",
    "\n",
    "# q_1 = x**2 + q[0]*x+q[1]\n",
    "\n",
    "# q_1*q_1\n",
    "\n",
    "\n",
    "# # A"
   ]
  }
 ],
 "metadata": {
  "kernelspec": {
   "display_name": "Python 3",
   "language": "python",
   "name": "python3"
  },
  "language_info": {
   "codemirror_mode": {
    "name": "ipython",
    "version": 3
   },
   "file_extension": ".py",
   "mimetype": "text/x-python",
   "name": "python",
   "nbconvert_exporter": "python",
   "pygments_lexer": "ipython3",
   "version": "3.8.3"
  }
 },
 "nbformat": 4,
 "nbformat_minor": 4
}

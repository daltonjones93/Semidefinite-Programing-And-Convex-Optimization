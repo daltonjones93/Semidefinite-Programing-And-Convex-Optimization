{
 "cells": [
  {
   "cell_type": "code",
   "execution_count": 1,
   "metadata": {},
   "outputs": [
    {
     "data": {
      "text/latex": [
       "$$ \\begin{alignat*}{1}\\text{feasibility}\\\\\n",
       "\\text{Subject to} \\quad\\end{alignat*}\n",
       " $$"
      ],
      "text/plain": [
       "A JuMP Model\n",
       "Feasibility problem with:\n",
       "Variables: 0\n",
       "Model mode: AUTOMATIC\n",
       "CachingOptimizer state: EMPTY_OPTIMIZER\n",
       "Solver name: Mosek"
      ]
     },
     "execution_count": 1,
     "metadata": {},
     "output_type": "execute_result"
    }
   ],
   "source": [
    "using SumOfSquares\n",
    "using DynamicPolynomials\n",
    "using MosekTools\n",
    "\n",
    "\n"
   ]
  },
  {
   "cell_type": "code",
   "execution_count": 6,
   "metadata": {},
   "outputs": [
    {
     "name": "stdout",
     "output_type": "stream",
     "text": [
      "Problem\n",
      "  Name                   :                 \n",
      "  Objective sense        : min             \n",
      "  Type                   : CONIC (conic optimization problem)\n",
      "  Constraints            : 7               \n",
      "  Cones                  : 1               \n",
      "  Scalar variables       : 5               \n",
      "  Matrix variables       : 0               \n",
      "  Integer variables      : 0               \n",
      "\n",
      "Optimizer started.\n",
      "Presolve started.\n",
      "Eliminator - tries                  : 0                 time                   : 0.00            \n",
      "Lin. dep.  - tries                  : 0                 time                   : 0.00            \n",
      "Lin. dep.  - number                 : 0               \n",
      "Presolve terminated. Time: 0.00    \n",
      "Optimizer terminated. Time: 0.00    \n",
      "\n",
      "Solution: [ -0.0, -0.0 ]\n"
     ]
    }
   ],
   "source": [
    "# Using Mosek as the SDP solver\n",
    "model = SOSModel(Mosek.Optimizer)\n",
    "\n",
    "@polyvar x y\n",
    "@variable(model, s)\n",
    "@variable(model, t)\n",
    "\n",
    "p = x+y-1\n",
    "q = s*x+t+1 +x+x^2\n",
    "# S = @set\n",
    "@constraint(model, p*q >= 0)\n",
    "\n",
    "optimize!(model)\n",
    "println(\"Solution: [ $(value(s)), $(value(t)) ]\")"
   ]
  },
  {
   "cell_type": "code",
   "execution_count": null,
   "metadata": {},
   "outputs": [],
   "source": []
  }
 ],
 "metadata": {
  "kernelspec": {
   "display_name": "Julia 1.5.3",
   "language": "julia",
   "name": "julia-1.5"
  },
  "language_info": {
   "file_extension": ".jl",
   "mimetype": "application/julia",
   "name": "julia",
   "version": "1.5.3"
  }
 },
 "nbformat": 4,
 "nbformat_minor": 4
}

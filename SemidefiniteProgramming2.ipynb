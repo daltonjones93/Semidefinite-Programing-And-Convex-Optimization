{
 "cells": [
  {
   "cell_type": "code",
   "execution_count": 1,
   "metadata": {},
   "outputs": [],
   "source": [
    "import sympy as sp\n",
    "import numpy as np\n",
    "from SumOfSquares import SOSProblem, poly_opt_prob"
   ]
  },
  {
   "cell_type": "code",
   "execution_count": 6,
   "metadata": {},
   "outputs": [
    {
     "ename": "SolutionFailure",
     "evalue": "Code 3: Primal solution state claimed empty but optimality is required (primals=True).",
     "output_type": "error",
     "traceback": [
      "\u001b[0;31m---------------------------------------------------------------------------\u001b[0m",
      "\u001b[0;31mSolutionFailure\u001b[0m                           Traceback (most recent call last)",
      "\u001b[0;32m<ipython-input-6-1dd1959b1aca>\u001b[0m in \u001b[0;36m<module>\u001b[0;34m\u001b[0m\n\u001b[1;32m      6\u001b[0m \u001b[0;31m# Adds Sum-of-Squares constaint and solves problem\u001b[0m\u001b[0;34m\u001b[0m\u001b[0;34m\u001b[0m\u001b[0;34m\u001b[0m\u001b[0m\n\u001b[1;32m      7\u001b[0m \u001b[0mconst\u001b[0m \u001b[0;34m=\u001b[0m \u001b[0mprob\u001b[0m\u001b[0;34m.\u001b[0m\u001b[0madd_sos_constraint\u001b[0m\u001b[0;34m(\u001b[0m\u001b[0mp\u001b[0m\u001b[0;34m,\u001b[0m \u001b[0;34m[\u001b[0m\u001b[0mx\u001b[0m\u001b[0;34m,\u001b[0m \u001b[0my\u001b[0m\u001b[0;34m,\u001b[0m \u001b[0mz\u001b[0m\u001b[0;34m]\u001b[0m\u001b[0;34m)\u001b[0m\u001b[0;34m\u001b[0m\u001b[0;34m\u001b[0m\u001b[0m\n\u001b[0;32m----> 8\u001b[0;31m \u001b[0mprob\u001b[0m\u001b[0;34m.\u001b[0m\u001b[0msolve\u001b[0m\u001b[0;34m(\u001b[0m\u001b[0;34m)\u001b[0m\u001b[0;34m\u001b[0m\u001b[0;34m\u001b[0m\u001b[0m\n\u001b[0m\u001b[1;32m      9\u001b[0m \u001b[0;34m\u001b[0m\u001b[0m\n\u001b[1;32m     10\u001b[0m \u001b[0;31m# Prints Sum-of-Squares decomposition\u001b[0m\u001b[0;34m\u001b[0m\u001b[0;34m\u001b[0m\u001b[0;34m\u001b[0m\u001b[0m\n",
      "\u001b[0;32m~/opt/anaconda3/lib/python3.8/site-packages/picos/modeling/problem.py\u001b[0m in \u001b[0;36msolve\u001b[0;34m(self, **extra_options)\u001b[0m\n\u001b[1;32m   1911\u001b[0m             \u001b[0;32mif\u001b[0m \u001b[0moptions\u001b[0m\u001b[0;34m.\u001b[0m\u001b[0mprimals\u001b[0m\u001b[0;34m:\u001b[0m\u001b[0;34m\u001b[0m\u001b[0;34m\u001b[0m\u001b[0m\n\u001b[1;32m   1912\u001b[0m                 \u001b[0;32mif\u001b[0m \u001b[0msolution\u001b[0m\u001b[0;34m.\u001b[0m\u001b[0mprimalStatus\u001b[0m \u001b[0;34m!=\u001b[0m \u001b[0mSS_OPTIMAL\u001b[0m\u001b[0;34m:\u001b[0m\u001b[0;34m\u001b[0m\u001b[0;34m\u001b[0m\u001b[0m\n\u001b[0;32m-> 1913\u001b[0;31m                     raise SolutionFailure(3, \"Primal solution state claimed {} \"\n\u001b[0m\u001b[1;32m   1914\u001b[0m                         \u001b[0;34m\"but optimality is required (primals=True).\"\u001b[0m\u001b[0;34m\u001b[0m\u001b[0;34m\u001b[0m\u001b[0m\n\u001b[1;32m   1915\u001b[0m                         .format(solution.primalStatus))\n",
      "\u001b[0;31mSolutionFailure\u001b[0m: Code 3: Primal solution state claimed empty but optimality is required (primals=True)."
     ]
    }
   ],
   "source": [
    "# Defines symbolic variables and polynomial\n",
    "x, y, z = sp.symbols('x y z')\n",
    "p = x**2*y**4+x**4*y**2 +z**6-3*x**2*y**2*z**2\n",
    "prob = SOSProblem()\n",
    "\n",
    "# Adds Sum-of-Squares constaint and solves problem\n",
    "const = prob.add_sos_constraint(p, [x, y, z])\n",
    "prob.solve()\n",
    "\n",
    "# Prints Sum-of-Squares decomposition\n",
    "# print(sum(const.get_sos_decomp()))"
   ]
  },
  {
   "cell_type": "code",
   "execution_count": 14,
   "metadata": {},
   "outputs": [
    {
     "ename": "SolutionFailure",
     "evalue": "Code 3: Primal solution state claimed empty but optimality is required (primals=True).",
     "output_type": "error",
     "traceback": [
      "\u001b[0;31m---------------------------------------------------------------------------\u001b[0m",
      "\u001b[0;31mSolutionFailure\u001b[0m                           Traceback (most recent call last)",
      "\u001b[0;32m<ipython-input-14-28fa09b15d15>\u001b[0m in \u001b[0;36m<module>\u001b[0;34m\u001b[0m\n\u001b[1;32m      6\u001b[0m \u001b[0;31m# Adds Sum-of-Squares constaint and solves problem\u001b[0m\u001b[0;34m\u001b[0m\u001b[0;34m\u001b[0m\u001b[0;34m\u001b[0m\u001b[0m\n\u001b[1;32m      7\u001b[0m \u001b[0mconst\u001b[0m \u001b[0;34m=\u001b[0m \u001b[0mprob\u001b[0m\u001b[0;34m.\u001b[0m\u001b[0madd_sos_constraint\u001b[0m\u001b[0;34m(\u001b[0m\u001b[0mp\u001b[0m\u001b[0;34m,\u001b[0m \u001b[0;34m[\u001b[0m\u001b[0mx\u001b[0m\u001b[0;34m,\u001b[0m \u001b[0my\u001b[0m\u001b[0;34m,\u001b[0m \u001b[0mz\u001b[0m\u001b[0;34m]\u001b[0m\u001b[0;34m)\u001b[0m\u001b[0;34m\u001b[0m\u001b[0;34m\u001b[0m\u001b[0m\n\u001b[0;32m----> 8\u001b[0;31m \u001b[0mprob\u001b[0m\u001b[0;34m.\u001b[0m\u001b[0msolve\u001b[0m\u001b[0;34m(\u001b[0m\u001b[0;34m)\u001b[0m\u001b[0;34m\u001b[0m\u001b[0;34m\u001b[0m\u001b[0m\n\u001b[0m\u001b[1;32m      9\u001b[0m \u001b[0;34m\u001b[0m\u001b[0m\n\u001b[1;32m     10\u001b[0m \u001b[0;31m# Prints Sum-of-Squares decomposition\u001b[0m\u001b[0;34m\u001b[0m\u001b[0;34m\u001b[0m\u001b[0;34m\u001b[0m\u001b[0m\n",
      "\u001b[0;32m~/opt/anaconda3/lib/python3.8/site-packages/picos/modeling/problem.py\u001b[0m in \u001b[0;36msolve\u001b[0;34m(self, **extra_options)\u001b[0m\n\u001b[1;32m   1911\u001b[0m             \u001b[0;32mif\u001b[0m \u001b[0moptions\u001b[0m\u001b[0;34m.\u001b[0m\u001b[0mprimals\u001b[0m\u001b[0;34m:\u001b[0m\u001b[0;34m\u001b[0m\u001b[0;34m\u001b[0m\u001b[0m\n\u001b[1;32m   1912\u001b[0m                 \u001b[0;32mif\u001b[0m \u001b[0msolution\u001b[0m\u001b[0;34m.\u001b[0m\u001b[0mprimalStatus\u001b[0m \u001b[0;34m!=\u001b[0m \u001b[0mSS_OPTIMAL\u001b[0m\u001b[0;34m:\u001b[0m\u001b[0;34m\u001b[0m\u001b[0;34m\u001b[0m\u001b[0m\n\u001b[0;32m-> 1913\u001b[0;31m                     raise SolutionFailure(3, \"Primal solution state claimed {} \"\n\u001b[0m\u001b[1;32m   1914\u001b[0m                         \u001b[0;34m\"but optimality is required (primals=True).\"\u001b[0m\u001b[0;34m\u001b[0m\u001b[0;34m\u001b[0m\u001b[0m\n\u001b[1;32m   1915\u001b[0m                         .format(solution.primalStatus))\n",
      "\u001b[0;31mSolutionFailure\u001b[0m: Code 3: Primal solution state claimed empty but optimality is required (primals=True)."
     ]
    }
   ],
   "source": [
    "# Defines symbolic variables and polynomial\n",
    "x, y, z = sp.symbols('x y z')\n",
    "p = (x**2*y**4+x**4*y**2 +z**6-3*x**2*y**2*z**2)*(x**2+y**2+z**2)\n",
    "prob = SOSProblem()\n",
    "\n",
    "# Adds Sum-of-Squares constaint and solves problem\n",
    "const = prob.add_sos_constraint(p, [x, y, z])\n",
    "prob.solve()\n",
    "\n",
    "# Prints Sum-of-Squares decomposition\n",
    "print(sum(const.get_sos_decomp()))"
   ]
  },
  {
   "cell_type": "code",
   "execution_count": 24,
   "metadata": {},
   "outputs": [
    {
     "name": "stdout",
     "output_type": "stream",
     "text": [
      "[ 1.22220922+0.16525511j  1.22220922-0.16525511j -0.85249889+1.27656969j\n",
      " -0.85249889-1.27656969j -0.36971034+0.83683693j -0.36971034-0.83683693j]\n"
     ]
    }
   ],
   "source": [
    "mat1 = np.array([[0,0,0,0,0,-3],[1,0,0,0,0,0],[0,1,0,0,0,-1],[0,0,1,0,0,4],[0,0,0,1,0,0],[0,0,0,0,1,0]])\n",
    "\n",
    "mat2 = np.array([[-2,0,0,-3,0,0],[0,-2,0,0,-3,0],[0,0,-2,0,0,-3],[1,0,0,2,-1,0],[0,1,0,0,2,-1],[0,0,1,0,0,2]])\n",
    "\n",
    "print(np.linalg.eigvals(mat1))"
   ]
  },
  {
   "cell_type": "code",
   "execution_count": 25,
   "metadata": {},
   "outputs": [
    {
     "ename": "SolutionFailure",
     "evalue": "Code 3: Primal solution state claimed empty but optimality is required (primals=True).",
     "output_type": "error",
     "traceback": [
      "\u001b[0;31m---------------------------------------------------------------------------\u001b[0m",
      "\u001b[0;31mSolutionFailure\u001b[0m                           Traceback (most recent call last)",
      "\u001b[0;32m<ipython-input-25-a17df5ce825b>\u001b[0m in \u001b[0;36m<module>\u001b[0;34m\u001b[0m\n\u001b[1;32m      7\u001b[0m \u001b[0mconst\u001b[0m \u001b[0;34m=\u001b[0m \u001b[0mprob\u001b[0m\u001b[0;34m.\u001b[0m\u001b[0madd_sos_constraint\u001b[0m\u001b[0;34m(\u001b[0m\u001b[0mp\u001b[0m\u001b[0;34m,\u001b[0m \u001b[0;34m[\u001b[0m\u001b[0mx\u001b[0m\u001b[0;34m,\u001b[0m \u001b[0my\u001b[0m\u001b[0;34m,\u001b[0m \u001b[0mz\u001b[0m\u001b[0;34m]\u001b[0m\u001b[0;34m)\u001b[0m\u001b[0;34m\u001b[0m\u001b[0;34m\u001b[0m\u001b[0m\n\u001b[1;32m      8\u001b[0m \u001b[0mconst\u001b[0m \u001b[0;34m=\u001b[0m \u001b[0mprob\u001b[0m\u001b[0;34m.\u001b[0m\u001b[0madd_sos_constraint\u001b[0m\u001b[0;34m(\u001b[0m\u001b[0;34m-\u001b[0m\u001b[0mp\u001b[0m\u001b[0;34m,\u001b[0m \u001b[0;34m[\u001b[0m\u001b[0mx\u001b[0m\u001b[0;34m,\u001b[0m \u001b[0my\u001b[0m\u001b[0;34m,\u001b[0m \u001b[0mz\u001b[0m\u001b[0;34m]\u001b[0m\u001b[0;34m)\u001b[0m\u001b[0;34m\u001b[0m\u001b[0;34m\u001b[0m\u001b[0m\n\u001b[0;32m----> 9\u001b[0;31m \u001b[0mprob\u001b[0m\u001b[0;34m.\u001b[0m\u001b[0msolve\u001b[0m\u001b[0;34m(\u001b[0m\u001b[0;34m)\u001b[0m\u001b[0;34m\u001b[0m\u001b[0;34m\u001b[0m\u001b[0m\n\u001b[0m\u001b[1;32m     10\u001b[0m \u001b[0;34m\u001b[0m\u001b[0m\n\u001b[1;32m     11\u001b[0m \u001b[0;31m# Prints Sum-of-Squares decomposition\u001b[0m\u001b[0;34m\u001b[0m\u001b[0;34m\u001b[0m\u001b[0;34m\u001b[0m\u001b[0m\n",
      "\u001b[0;32m~/opt/anaconda3/lib/python3.8/site-packages/picos/modeling/problem.py\u001b[0m in \u001b[0;36msolve\u001b[0;34m(self, **extra_options)\u001b[0m\n\u001b[1;32m   1911\u001b[0m             \u001b[0;32mif\u001b[0m \u001b[0moptions\u001b[0m\u001b[0;34m.\u001b[0m\u001b[0mprimals\u001b[0m\u001b[0;34m:\u001b[0m\u001b[0;34m\u001b[0m\u001b[0;34m\u001b[0m\u001b[0m\n\u001b[1;32m   1912\u001b[0m                 \u001b[0;32mif\u001b[0m \u001b[0msolution\u001b[0m\u001b[0;34m.\u001b[0m\u001b[0mprimalStatus\u001b[0m \u001b[0;34m!=\u001b[0m \u001b[0mSS_OPTIMAL\u001b[0m\u001b[0;34m:\u001b[0m\u001b[0;34m\u001b[0m\u001b[0;34m\u001b[0m\u001b[0m\n\u001b[0;32m-> 1913\u001b[0;31m                     raise SolutionFailure(3, \"Primal solution state claimed {} \"\n\u001b[0m\u001b[1;32m   1914\u001b[0m                         \u001b[0;34m\"but optimality is required (primals=True).\"\u001b[0m\u001b[0;34m\u001b[0m\u001b[0;34m\u001b[0m\u001b[0m\n\u001b[1;32m   1915\u001b[0m                         .format(solution.primalStatus))\n",
      "\u001b[0;31mSolutionFailure\u001b[0m: Code 3: Primal solution state claimed empty but optimality is required (primals=True)."
     ]
    }
   ],
   "source": [
    "# Defines symbolic variables and polynomial\n",
    "x, y, z = sp.symbols('x y z')\n",
    "p = (x**2*y**4+x**4*y**2 +z**6-3*x**2*y**2*z**2)*(x**2+y**2+z**2)\n",
    "prob = SOSProblem()\n",
    "\n",
    "# Adds Sum-of-Squares constaint and solves problem\n",
    "const = prob.add_sos_constraint(p, [x, y, z])\n",
    "const = prob.add_sos_constraint(-p, [x, y, z])\n",
    "prob.solve()\n",
    "\n",
    "# Prints Sum-of-Squares decomposition\n",
    "print(sum(const.get_sos_decomp()))"
   ]
  },
  {
   "cell_type": "code",
   "execution_count": 56,
   "metadata": {},
   "outputs": [
    {
     "name": "stdout",
     "output_type": "stream",
     "text": [
      "-1.0\n",
      "1.0\n",
      "1.0\n",
      "0.2499999166945864\n",
      "0.25000000243889176\n",
      "-2.0000000000000004\n",
      " \n",
      "-1.2499999166945865\n",
      "-0.2499999166945864\n",
      "1.7500000833054137\n",
      "-8.366417464392871e-22\n",
      "6.277468005131774e-10\n",
      " \n",
      "-1.250000002438892\n",
      "1.7499999975611082\n",
      "-0.25000000243889176\n",
      "-6.27746800514851e-10\n",
      "-8.364991031009267e-22\n"
     ]
    }
   ],
   "source": [
    "x, y,a1,a2,a3,a4,a5,a6,b1,b2,b3,b4,b5,c1,c2,c3,c4,c5 = sp.symbols('x y a1 a2 a3 a4 a5 a6 b1 b2 b3 b4 b5 c1 c2 c3 c4 c5')\n",
    "\n",
    "p = (a1+a2*x+a3*y + a4*x**2 + a5*y**2 +a6*x*y)*(x+y+1) +(b1+b2*x+b3*y+ b4*x**2 + b5*y**2)*(x**2)+\\\n",
    "(c1+c2*x+c3*y+ c4*x**2 + c5*y**2)*(y**2)+1\n",
    "prob = SOSProblem()\n",
    "prob.add_sos_constraint(p, [x, y])\n",
    "prob.add_sos_constraint(-p, [x, y])\n",
    "\n",
    "a1v = prob.sym_to_var(a1)\n",
    "a2v = prob.sym_to_var(a2)\n",
    "a3v = prob.sym_to_var(a3)\n",
    "a4v = prob.sym_to_var(a4)\n",
    "a5v = prob.sym_to_var(a5)\n",
    "a6v = prob.sym_to_var(a6)\n",
    "\n",
    "b1v = prob.sym_to_var(b1)\n",
    "b2v = prob.sym_to_var(b2)\n",
    "b3v = prob.sym_to_var(b3)\n",
    "b4v = prob.sym_to_var(b4)\n",
    "b5v = prob.sym_to_var(b5)\n",
    "\n",
    "c1v = prob.sym_to_var(c1)\n",
    "c2v = prob.sym_to_var(c2)\n",
    "c3v = prob.sym_to_var(c3)\n",
    "c4v = prob.sym_to_var(c4)\n",
    "c5v = prob.sym_to_var(c5)\n",
    "\n",
    "prob.solve()\n",
    "\n",
    "print(a1v)\n",
    "print(a2v)\n",
    "print(a3v)\n",
    "print(a4v)\n",
    "print(a5v)\n",
    "print(a6v)\n",
    "print(' ')\n",
    "\n",
    "print(b1v)\n",
    "print(b2v)\n",
    "print(b3v)\n",
    "print(b4v)\n",
    "print(b5v)\n",
    "print(' ')\n",
    "\n",
    "print(c1v)\n",
    "print(c2v)\n",
    "print(c3v)\n",
    "print(c4v)\n",
    "print(c5v)\n",
    "# print(b6v)\n",
    "# prob.set_objective('min', sv+tv)\n",
    "\n",
    "\n"
   ]
  },
  {
   "cell_type": "code",
   "execution_count": null,
   "metadata": {},
   "outputs": [],
   "source": [
    "x, a,b,c , a1, a2, a3 = sp.symbols('x a b c a1 a2 a3')\n",
    "p = a*x**2+b*x+c\n",
    "q = a1*x**2+a2*x+a3\n",
    "b = p*q\n",
    "\n",
    "prob = SOSProblem()\n",
    "prob.add_sos_constraint(p, [x, a, b, c, a1, a2, a3])\n",
    "prob.add_sos_constraint(p, [x, y])\n",
    "\n",
    "sv, tv = prob.sym_to_var(s), prob.sym_to_var(t)\n",
    "prob.solve()\n",
    "prob.set_objective('min', sv+tv)\n",
    "print(sv.value, tv.value)"
   ]
  },
  {
   "cell_type": "code",
   "execution_count": 65,
   "metadata": {},
   "outputs": [
    {
     "data": {
      "image/png": "[encoded data removed]",
      "text/plain": [
       "<Figure size 432x288 with 1 Axes>"
      ]
     },
     "metadata": {
      "needs_background": "light"
     },
     "output_type": "display_data"
    }
   ],
   "source": [
    "import matplotlib.pyplot as plt\n",
    "xvals = np.linspace(0,5,100)\n",
    "yvals = np.exp(xvals)\n",
    "plt.figure()\n",
    "plt.plot(xvals,yvals)\n",
    "plt.axis('off')\n",
    "plt.savefig('timetocalculate.pdf')\n",
    "# plt.tick_params(\n",
    "#     axis='x',          # changes apply to the x-axis\n",
    "#     which='both',      # both major and minor ticks are affected\n",
    "#     bottom=False,      # ticks along the bottom edge are off\n",
    "#     top=False,   # ticks along the top edge are off\n",
    "#     labelbottom=False) # labels along the bottom edge are off\n"
   ]
  },
  {
   "cell_type": "code",
   "execution_count": 71,
   "metadata": {},
   "outputs": [
    {
     "name": "stdout",
     "output_type": "stream",
     "text": [
      "-3.225663645502892\n",
      "a2\n",
      "a3\n",
      "a4\n",
      "a5\n",
      "a6\n",
      " \n",
      "-6.460124233075074\n",
      "b2\n",
      "b3\n",
      "b4\n",
      "b5\n",
      " \n",
      "-6.460124233075073\n",
      "-6.460124233075073\n",
      "c3\n",
      "c4\n",
      "c5\n",
      "4.629*x**2 + 5.033*(-0.283*x + y)**2 + 5.291*(-0.221*x - 0.221*y + z)**2 + 2.226*(0.725*x + 0.725*y + 0.725*z + 1)**2\n"
     ]
    }
   ],
   "source": [
    "x, y,z,a1,a2,a3,a4,a5,a6,b1,b2,b3,b4,b5,c1,c2,c3,c4,c5 = sp.symbols('x y z a1 a2 a3 a4 a5 a6 b1 b2 b3 b4 b5 c1 c2 c3 c4 c5')\n",
    "\n",
    "p = -((a1)*(x+y+z+1) +(b1)*(x**2)+\\\n",
    "(c1)*(y**2)+c2*(z**2)+1)\n",
    "prob = SOSProblem()\n",
    "# prob.add_sos_constraint(p, [x, y])\n",
    "const = prob.add_sos_constraint(p, [x, y, z])\n",
    "\n",
    "a1v = prob.sym_to_var(a1)\n",
    "a2v = prob.sym_to_var(a2)\n",
    "a3v = prob.sym_to_var(a3)\n",
    "a4v = prob.sym_to_var(a4)\n",
    "a5v = prob.sym_to_var(a5)\n",
    "a6v = prob.sym_to_var(a6)\n",
    "\n",
    "b1v = prob.sym_to_var(b1)\n",
    "b2v = prob.sym_to_var(b2)\n",
    "b3v = prob.sym_to_var(b3)\n",
    "b4v = prob.sym_to_var(b4)\n",
    "b5v = prob.sym_to_var(b5)\n",
    "\n",
    "c1v = prob.sym_to_var(c1)\n",
    "c2v = prob.sym_to_var(c2)\n",
    "c3v = prob.sym_to_var(c3)\n",
    "c4v = prob.sym_to_var(c4)\n",
    "c5v = prob.sym_to_var(c5)\n",
    "\n",
    "prob.solve()\n",
    "\n",
    "print(a1v)\n",
    "print(a2v)\n",
    "print(a3v)\n",
    "print(a4v)\n",
    "print(a5v)\n",
    "print(a6v)\n",
    "print(' ')\n",
    "\n",
    "print(b1v)\n",
    "print(b2v)\n",
    "print(b3v)\n",
    "print(b4v)\n",
    "print(b5v)\n",
    "print(' ')\n",
    "\n",
    "print(c1v)\n",
    "print(c2v)\n",
    "print(c3v)\n",
    "print(c4v)\n",
    "print(c5v)\n",
    "print(sum(const.get_sos_decomp()))"
   ]
  },
  {
   "cell_type": "code",
   "execution_count": null,
   "metadata": {},
   "outputs": [],
   "source": []
  }
 ],
 "metadata": {
  "kernelspec": {
   "display_name": "Python 3",
   "language": "python",
   "name": "python3"
  },
  "language_info": {
   "codemirror_mode": {
    "name": "ipython",
    "version": 3
   },
   "file_extension": ".py",
   "mimetype": "text/x-python",
   "name": "python",
   "nbconvert_exporter": "python",
   "pygments_lexer": "ipython3",
   "version": "3.8.3"
  }
 },
 "nbformat": 4,
 "nbformat_minor": 4
}
